{
  "nbformat": 4,
  "nbformat_minor": 0,
  "metadata": {
    "colab": {
      "provenance": [],
      "mount_file_id": "13gIYgTQh9R-r6nkvnU-y6BfxBT1tG7b6",
      "authorship_tag": "ABX9TyND21fUTdazha04TIaL+WaL",
      "include_colab_link": true
    },
    "kernelspec": {
      "name": "python3",
      "display_name": "Python 3"
    },
    "language_info": {
      "name": "python"
    }
  },
  "cells": [
    {
      "cell_type": "markdown",
      "metadata": {
        "id": "view-in-github",
        "colab_type": "text"
      },
      "source": [
        "<a href=\"https://colab.research.google.com/github/oreomcflurryyy/statistical-learning-deeplearning/blob/main/deeplearning_8.ipynb\" target=\"_parent\"><img src=\"https://colab.research.google.com/assets/colab-badge.svg\" alt=\"Open In Colab\"/></a>"
      ]
    },
    {
      "cell_type": "code",
      "source": [
        "!pip install ISLP\n",
        "!pip install torchinfo\n",
        "!pip install pytorch-lightning\n",
        "!pip install torchmetrics"
      ],
      "metadata": {
        "colab": {
          "base_uri": "https://localhost:8080/"
        },
        "id": "dNbiYG31bOyE",
        "outputId": "7293e283-0485-4dd8-db4c-4791a4d5959a"
      },
      "execution_count": 2,
      "outputs": [
        {
          "output_type": "stream",
          "name": "stdout",
          "text": [
            "Collecting ISLP\n",
            "  Downloading ISLP-0.4.0-py3-none-any.whl.metadata (7.0 kB)\n",
            "Requirement already satisfied: numpy>=1.7.1 in /usr/local/lib/python3.10/dist-packages (from ISLP) (1.26.4)\n",
            "Requirement already satisfied: scipy>=0.9 in /usr/local/lib/python3.10/dist-packages (from ISLP) (1.13.1)\n",
            "Requirement already satisfied: pandas>=0.20 in /usr/local/lib/python3.10/dist-packages (from ISLP) (2.2.2)\n",
            "Requirement already satisfied: lxml in /usr/local/lib/python3.10/dist-packages (from ISLP) (5.3.0)\n",
            "Requirement already satisfied: scikit-learn>=1.2 in /usr/local/lib/python3.10/dist-packages (from ISLP) (1.6.0)\n",
            "Requirement already satisfied: joblib in /usr/local/lib/python3.10/dist-packages (from ISLP) (1.4.2)\n",
            "Requirement already satisfied: statsmodels>=0.13 in /usr/local/lib/python3.10/dist-packages (from ISLP) (0.14.4)\n",
            "Collecting lifelines (from ISLP)\n",
            "  Downloading lifelines-0.30.0-py3-none-any.whl.metadata (3.2 kB)\n",
            "Collecting pygam (from ISLP)\n",
            "  Downloading pygam-0.9.1-py3-none-any.whl.metadata (7.1 kB)\n",
            "Requirement already satisfied: torch in /usr/local/lib/python3.10/dist-packages (from ISLP) (2.5.1+cu121)\n",
            "Collecting pytorch-lightning (from ISLP)\n",
            "  Downloading pytorch_lightning-2.5.0.post0-py3-none-any.whl.metadata (21 kB)\n",
            "Collecting torchmetrics (from ISLP)\n",
            "  Downloading torchmetrics-1.6.1-py3-none-any.whl.metadata (21 kB)\n",
            "Requirement already satisfied: python-dateutil>=2.8.2 in /usr/local/lib/python3.10/dist-packages (from pandas>=0.20->ISLP) (2.8.2)\n",
            "Requirement already satisfied: pytz>=2020.1 in /usr/local/lib/python3.10/dist-packages (from pandas>=0.20->ISLP) (2024.2)\n",
            "Requirement already satisfied: tzdata>=2022.7 in /usr/local/lib/python3.10/dist-packages (from pandas>=0.20->ISLP) (2024.2)\n",
            "Requirement already satisfied: threadpoolctl>=3.1.0 in /usr/local/lib/python3.10/dist-packages (from scikit-learn>=1.2->ISLP) (3.5.0)\n",
            "Requirement already satisfied: patsy>=0.5.6 in /usr/local/lib/python3.10/dist-packages (from statsmodels>=0.13->ISLP) (1.0.1)\n",
            "Requirement already satisfied: packaging>=21.3 in /usr/local/lib/python3.10/dist-packages (from statsmodels>=0.13->ISLP) (24.2)\n",
            "Requirement already satisfied: matplotlib>=3.0 in /usr/local/lib/python3.10/dist-packages (from lifelines->ISLP) (3.8.0)\n",
            "Requirement already satisfied: autograd>=1.5 in /usr/local/lib/python3.10/dist-packages (from lifelines->ISLP) (1.7.0)\n",
            "Collecting autograd-gamma>=0.3 (from lifelines->ISLP)\n",
            "  Downloading autograd-gamma-0.5.0.tar.gz (4.0 kB)\n",
            "  Preparing metadata (setup.py) ... \u001b[?25l\u001b[?25hdone\n",
            "Collecting formulaic>=0.2.2 (from lifelines->ISLP)\n",
            "  Downloading formulaic-1.1.1-py3-none-any.whl.metadata (6.9 kB)\n",
            "Requirement already satisfied: progressbar2<5.0.0,>=4.2.0 in /usr/local/lib/python3.10/dist-packages (from pygam->ISLP) (4.5.0)\n",
            "Collecting scipy>=0.9 (from ISLP)\n",
            "  Downloading scipy-1.11.4-cp310-cp310-manylinux_2_17_x86_64.manylinux2014_x86_64.whl.metadata (60 kB)\n",
            "\u001b[2K     \u001b[90m━━━━━━━━━━━━━━━━━━━━━━━━━━━━━━━━━━━━━━━━\u001b[0m \u001b[32m60.4/60.4 kB\u001b[0m \u001b[31m4.3 MB/s\u001b[0m eta \u001b[36m0:00:00\u001b[0m\n",
            "\u001b[?25hRequirement already satisfied: tqdm>=4.57.0 in /usr/local/lib/python3.10/dist-packages (from pytorch-lightning->ISLP) (4.67.1)\n",
            "Requirement already satisfied: PyYAML>=5.4 in /usr/local/lib/python3.10/dist-packages (from pytorch-lightning->ISLP) (6.0.2)\n",
            "Requirement already satisfied: fsspec>=2022.5.0 in /usr/local/lib/python3.10/dist-packages (from fsspec[http]>=2022.5.0->pytorch-lightning->ISLP) (2024.10.0)\n",
            "Requirement already satisfied: typing-extensions>=4.4.0 in /usr/local/lib/python3.10/dist-packages (from pytorch-lightning->ISLP) (4.12.2)\n",
            "Collecting lightning-utilities>=0.10.0 (from pytorch-lightning->ISLP)\n",
            "  Downloading lightning_utilities-0.11.9-py3-none-any.whl.metadata (5.2 kB)\n",
            "Requirement already satisfied: filelock in /usr/local/lib/python3.10/dist-packages (from torch->ISLP) (3.16.1)\n",
            "Requirement already satisfied: networkx in /usr/local/lib/python3.10/dist-packages (from torch->ISLP) (3.4.2)\n",
            "Requirement already satisfied: jinja2 in /usr/local/lib/python3.10/dist-packages (from torch->ISLP) (3.1.4)\n",
            "Requirement already satisfied: sympy==1.13.1 in /usr/local/lib/python3.10/dist-packages (from torch->ISLP) (1.13.1)\n",
            "Requirement already satisfied: mpmath<1.4,>=1.1.0 in /usr/local/lib/python3.10/dist-packages (from sympy==1.13.1->torch->ISLP) (1.3.0)\n",
            "Collecting interface-meta>=1.2.0 (from formulaic>=0.2.2->lifelines->ISLP)\n",
            "  Downloading interface_meta-1.3.0-py3-none-any.whl.metadata (6.7 kB)\n",
            "Requirement already satisfied: wrapt>=1.0 in /usr/local/lib/python3.10/dist-packages (from formulaic>=0.2.2->lifelines->ISLP) (1.17.0)\n",
            "Requirement already satisfied: aiohttp!=4.0.0a0,!=4.0.0a1 in /usr/local/lib/python3.10/dist-packages (from fsspec[http]>=2022.5.0->pytorch-lightning->ISLP) (3.11.10)\n",
            "Requirement already satisfied: setuptools in /usr/local/lib/python3.10/dist-packages (from lightning-utilities>=0.10.0->pytorch-lightning->ISLP) (75.1.0)\n",
            "Requirement already satisfied: contourpy>=1.0.1 in /usr/local/lib/python3.10/dist-packages (from matplotlib>=3.0->lifelines->ISLP) (1.3.1)\n",
            "Requirement already satisfied: cycler>=0.10 in /usr/local/lib/python3.10/dist-packages (from matplotlib>=3.0->lifelines->ISLP) (0.12.1)\n",
            "Requirement already satisfied: fonttools>=4.22.0 in /usr/local/lib/python3.10/dist-packages (from matplotlib>=3.0->lifelines->ISLP) (4.55.3)\n",
            "Requirement already satisfied: kiwisolver>=1.0.1 in /usr/local/lib/python3.10/dist-packages (from matplotlib>=3.0->lifelines->ISLP) (1.4.7)\n",
            "Requirement already satisfied: pillow>=6.2.0 in /usr/local/lib/python3.10/dist-packages (from matplotlib>=3.0->lifelines->ISLP) (11.0.0)\n",
            "Requirement already satisfied: pyparsing>=2.3.1 in /usr/local/lib/python3.10/dist-packages (from matplotlib>=3.0->lifelines->ISLP) (3.2.0)\n",
            "Requirement already satisfied: python-utils>=3.8.1 in /usr/local/lib/python3.10/dist-packages (from progressbar2<5.0.0,>=4.2.0->pygam->ISLP) (3.9.1)\n",
            "Requirement already satisfied: six>=1.5 in /usr/local/lib/python3.10/dist-packages (from python-dateutil>=2.8.2->pandas>=0.20->ISLP) (1.17.0)\n",
            "Requirement already satisfied: MarkupSafe>=2.0 in /usr/local/lib/python3.10/dist-packages (from jinja2->torch->ISLP) (3.0.2)\n",
            "Requirement already satisfied: aiohappyeyeballs>=2.3.0 in /usr/local/lib/python3.10/dist-packages (from aiohttp!=4.0.0a0,!=4.0.0a1->fsspec[http]>=2022.5.0->pytorch-lightning->ISLP) (2.4.4)\n",
            "Requirement already satisfied: aiosignal>=1.1.2 in /usr/local/lib/python3.10/dist-packages (from aiohttp!=4.0.0a0,!=4.0.0a1->fsspec[http]>=2022.5.0->pytorch-lightning->ISLP) (1.3.2)\n",
            "Requirement already satisfied: async-timeout<6.0,>=4.0 in /usr/local/lib/python3.10/dist-packages (from aiohttp!=4.0.0a0,!=4.0.0a1->fsspec[http]>=2022.5.0->pytorch-lightning->ISLP) (4.0.3)\n",
            "Requirement already satisfied: attrs>=17.3.0 in /usr/local/lib/python3.10/dist-packages (from aiohttp!=4.0.0a0,!=4.0.0a1->fsspec[http]>=2022.5.0->pytorch-lightning->ISLP) (24.3.0)\n",
            "Requirement already satisfied: frozenlist>=1.1.1 in /usr/local/lib/python3.10/dist-packages (from aiohttp!=4.0.0a0,!=4.0.0a1->fsspec[http]>=2022.5.0->pytorch-lightning->ISLP) (1.5.0)\n",
            "Requirement already satisfied: multidict<7.0,>=4.5 in /usr/local/lib/python3.10/dist-packages (from aiohttp!=4.0.0a0,!=4.0.0a1->fsspec[http]>=2022.5.0->pytorch-lightning->ISLP) (6.1.0)\n",
            "Requirement already satisfied: propcache>=0.2.0 in /usr/local/lib/python3.10/dist-packages (from aiohttp!=4.0.0a0,!=4.0.0a1->fsspec[http]>=2022.5.0->pytorch-lightning->ISLP) (0.2.1)\n",
            "Requirement already satisfied: yarl<2.0,>=1.17.0 in /usr/local/lib/python3.10/dist-packages (from aiohttp!=4.0.0a0,!=4.0.0a1->fsspec[http]>=2022.5.0->pytorch-lightning->ISLP) (1.18.3)\n",
            "Requirement already satisfied: idna>=2.0 in /usr/local/lib/python3.10/dist-packages (from yarl<2.0,>=1.17.0->aiohttp!=4.0.0a0,!=4.0.0a1->fsspec[http]>=2022.5.0->pytorch-lightning->ISLP) (3.10)\n",
            "Downloading ISLP-0.4.0-py3-none-any.whl (3.6 MB)\n",
            "\u001b[2K   \u001b[90m━━━━━━━━━━━━━━━━━━━━━━━━━━━━━━━━━━━━━━━━\u001b[0m \u001b[32m3.6/3.6 MB\u001b[0m \u001b[31m58.3 MB/s\u001b[0m eta \u001b[36m0:00:00\u001b[0m\n",
            "\u001b[?25hDownloading lifelines-0.30.0-py3-none-any.whl (349 kB)\n",
            "\u001b[2K   \u001b[90m━━━━━━━━━━━━━━━━━━━━━━━━━━━━━━━━━━━━━━━━\u001b[0m \u001b[32m349.3/349.3 kB\u001b[0m \u001b[31m19.6 MB/s\u001b[0m eta \u001b[36m0:00:00\u001b[0m\n",
            "\u001b[?25hDownloading pygam-0.9.1-py3-none-any.whl (522 kB)\n",
            "\u001b[2K   \u001b[90m━━━━━━━━━━━━━━━━━━━━━━━━━━━━━━━━━━━━━━━━\u001b[0m \u001b[32m522.0/522.0 kB\u001b[0m \u001b[31m30.7 MB/s\u001b[0m eta \u001b[36m0:00:00\u001b[0m\n",
            "\u001b[?25hDownloading scipy-1.11.4-cp310-cp310-manylinux_2_17_x86_64.manylinux2014_x86_64.whl (36.4 MB)\n",
            "\u001b[2K   \u001b[90m━━━━━━━━━━━━━━━━━━━━━━━━━━━━━━━━━━━━━━━━\u001b[0m \u001b[32m36.4/36.4 MB\u001b[0m \u001b[31m44.5 MB/s\u001b[0m eta \u001b[36m0:00:00\u001b[0m\n",
            "\u001b[?25hDownloading pytorch_lightning-2.5.0.post0-py3-none-any.whl (819 kB)\n",
            "\u001b[2K   \u001b[90m━━━━━━━━━━━━━━━━━━━━━━━━━━━━━━━━━━━━━━━━\u001b[0m \u001b[32m819.3/819.3 kB\u001b[0m \u001b[31m36.3 MB/s\u001b[0m eta \u001b[36m0:00:00\u001b[0m\n",
            "\u001b[?25hDownloading torchmetrics-1.6.1-py3-none-any.whl (927 kB)\n",
            "\u001b[2K   \u001b[90m━━━━━━━━━━━━━━━━━━━━━━━━━━━━━━━━━━━━━━━━\u001b[0m \u001b[32m927.3/927.3 kB\u001b[0m \u001b[31m46.1 MB/s\u001b[0m eta \u001b[36m0:00:00\u001b[0m\n",
            "\u001b[?25hDownloading formulaic-1.1.1-py3-none-any.whl (115 kB)\n",
            "\u001b[2K   \u001b[90m━━━━━━━━━━━━━━━━━━━━━━━━━━━━━━━━━━━━━━━━\u001b[0m \u001b[32m115.7/115.7 kB\u001b[0m \u001b[31m8.7 MB/s\u001b[0m eta \u001b[36m0:00:00\u001b[0m\n",
            "\u001b[?25hDownloading lightning_utilities-0.11.9-py3-none-any.whl (28 kB)\n",
            "Downloading interface_meta-1.3.0-py3-none-any.whl (14 kB)\n",
            "Building wheels for collected packages: autograd-gamma\n",
            "  Building wheel for autograd-gamma (setup.py) ... \u001b[?25l\u001b[?25hdone\n",
            "  Created wheel for autograd-gamma: filename=autograd_gamma-0.5.0-py3-none-any.whl size=4031 sha256=f13b3764816443699193ab53a0c29d8607ca44353a4794a993882f4ad5f9179c\n",
            "  Stored in directory: /root/.cache/pip/wheels/25/cc/e0/ef2969164144c899fedb22b338f6703e2b9cf46eeebf254991\n",
            "Successfully built autograd-gamma\n",
            "Installing collected packages: scipy, lightning-utilities, interface-meta, autograd-gamma, torchmetrics, pygam, formulaic, lifelines, pytorch-lightning, ISLP\n",
            "  Attempting uninstall: scipy\n",
            "    Found existing installation: scipy 1.13.1\n",
            "    Uninstalling scipy-1.13.1:\n",
            "      Successfully uninstalled scipy-1.13.1\n",
            "Successfully installed ISLP-0.4.0 autograd-gamma-0.5.0 formulaic-1.1.1 interface-meta-1.3.0 lifelines-0.30.0 lightning-utilities-0.11.9 pygam-0.9.1 pytorch-lightning-2.5.0.post0 scipy-1.11.4 torchmetrics-1.6.1\n",
            "Collecting torchinfo\n",
            "  Downloading torchinfo-1.8.0-py3-none-any.whl.metadata (21 kB)\n",
            "Downloading torchinfo-1.8.0-py3-none-any.whl (23 kB)\n",
            "Installing collected packages: torchinfo\n",
            "Successfully installed torchinfo-1.8.0\n",
            "Requirement already satisfied: pytorch-lightning in /usr/local/lib/python3.10/dist-packages (2.5.0.post0)\n",
            "Requirement already satisfied: torch>=2.1.0 in /usr/local/lib/python3.10/dist-packages (from pytorch-lightning) (2.5.1+cu121)\n",
            "Requirement already satisfied: tqdm>=4.57.0 in /usr/local/lib/python3.10/dist-packages (from pytorch-lightning) (4.67.1)\n",
            "Requirement already satisfied: PyYAML>=5.4 in /usr/local/lib/python3.10/dist-packages (from pytorch-lightning) (6.0.2)\n",
            "Requirement already satisfied: fsspec>=2022.5.0 in /usr/local/lib/python3.10/dist-packages (from fsspec[http]>=2022.5.0->pytorch-lightning) (2024.10.0)\n",
            "Requirement already satisfied: torchmetrics>=0.7.0 in /usr/local/lib/python3.10/dist-packages (from pytorch-lightning) (1.6.1)\n",
            "Requirement already satisfied: packaging>=20.0 in /usr/local/lib/python3.10/dist-packages (from pytorch-lightning) (24.2)\n",
            "Requirement already satisfied: typing-extensions>=4.4.0 in /usr/local/lib/python3.10/dist-packages (from pytorch-lightning) (4.12.2)\n",
            "Requirement already satisfied: lightning-utilities>=0.10.0 in /usr/local/lib/python3.10/dist-packages (from pytorch-lightning) (0.11.9)\n",
            "Requirement already satisfied: aiohttp!=4.0.0a0,!=4.0.0a1 in /usr/local/lib/python3.10/dist-packages (from fsspec[http]>=2022.5.0->pytorch-lightning) (3.11.10)\n",
            "Requirement already satisfied: setuptools in /usr/local/lib/python3.10/dist-packages (from lightning-utilities>=0.10.0->pytorch-lightning) (75.1.0)\n",
            "Requirement already satisfied: filelock in /usr/local/lib/python3.10/dist-packages (from torch>=2.1.0->pytorch-lightning) (3.16.1)\n",
            "Requirement already satisfied: networkx in /usr/local/lib/python3.10/dist-packages (from torch>=2.1.0->pytorch-lightning) (3.4.2)\n",
            "Requirement already satisfied: jinja2 in /usr/local/lib/python3.10/dist-packages (from torch>=2.1.0->pytorch-lightning) (3.1.4)\n",
            "Requirement already satisfied: sympy==1.13.1 in /usr/local/lib/python3.10/dist-packages (from torch>=2.1.0->pytorch-lightning) (1.13.1)\n",
            "Requirement already satisfied: mpmath<1.4,>=1.1.0 in /usr/local/lib/python3.10/dist-packages (from sympy==1.13.1->torch>=2.1.0->pytorch-lightning) (1.3.0)\n",
            "Requirement already satisfied: numpy>1.20.0 in /usr/local/lib/python3.10/dist-packages (from torchmetrics>=0.7.0->pytorch-lightning) (1.26.4)\n",
            "Requirement already satisfied: aiohappyeyeballs>=2.3.0 in /usr/local/lib/python3.10/dist-packages (from aiohttp!=4.0.0a0,!=4.0.0a1->fsspec[http]>=2022.5.0->pytorch-lightning) (2.4.4)\n",
            "Requirement already satisfied: aiosignal>=1.1.2 in /usr/local/lib/python3.10/dist-packages (from aiohttp!=4.0.0a0,!=4.0.0a1->fsspec[http]>=2022.5.0->pytorch-lightning) (1.3.2)\n",
            "Requirement already satisfied: async-timeout<6.0,>=4.0 in /usr/local/lib/python3.10/dist-packages (from aiohttp!=4.0.0a0,!=4.0.0a1->fsspec[http]>=2022.5.0->pytorch-lightning) (4.0.3)\n",
            "Requirement already satisfied: attrs>=17.3.0 in /usr/local/lib/python3.10/dist-packages (from aiohttp!=4.0.0a0,!=4.0.0a1->fsspec[http]>=2022.5.0->pytorch-lightning) (24.3.0)\n",
            "Requirement already satisfied: frozenlist>=1.1.1 in /usr/local/lib/python3.10/dist-packages (from aiohttp!=4.0.0a0,!=4.0.0a1->fsspec[http]>=2022.5.0->pytorch-lightning) (1.5.0)\n",
            "Requirement already satisfied: multidict<7.0,>=4.5 in /usr/local/lib/python3.10/dist-packages (from aiohttp!=4.0.0a0,!=4.0.0a1->fsspec[http]>=2022.5.0->pytorch-lightning) (6.1.0)\n",
            "Requirement already satisfied: propcache>=0.2.0 in /usr/local/lib/python3.10/dist-packages (from aiohttp!=4.0.0a0,!=4.0.0a1->fsspec[http]>=2022.5.0->pytorch-lightning) (0.2.1)\n",
            "Requirement already satisfied: yarl<2.0,>=1.17.0 in /usr/local/lib/python3.10/dist-packages (from aiohttp!=4.0.0a0,!=4.0.0a1->fsspec[http]>=2022.5.0->pytorch-lightning) (1.18.3)\n",
            "Requirement already satisfied: MarkupSafe>=2.0 in /usr/local/lib/python3.10/dist-packages (from jinja2->torch>=2.1.0->pytorch-lightning) (3.0.2)\n",
            "Requirement already satisfied: idna>=2.0 in /usr/local/lib/python3.10/dist-packages (from yarl<2.0,>=1.17.0->aiohttp!=4.0.0a0,!=4.0.0a1->fsspec[http]>=2022.5.0->pytorch-lightning) (3.10)\n",
            "Requirement already satisfied: torchmetrics in /usr/local/lib/python3.10/dist-packages (1.6.1)\n",
            "Requirement already satisfied: numpy>1.20.0 in /usr/local/lib/python3.10/dist-packages (from torchmetrics) (1.26.4)\n",
            "Requirement already satisfied: packaging>17.1 in /usr/local/lib/python3.10/dist-packages (from torchmetrics) (24.2)\n",
            "Requirement already satisfied: torch>=2.0.0 in /usr/local/lib/python3.10/dist-packages (from torchmetrics) (2.5.1+cu121)\n",
            "Requirement already satisfied: lightning-utilities>=0.8.0 in /usr/local/lib/python3.10/dist-packages (from torchmetrics) (0.11.9)\n",
            "Requirement already satisfied: setuptools in /usr/local/lib/python3.10/dist-packages (from lightning-utilities>=0.8.0->torchmetrics) (75.1.0)\n",
            "Requirement already satisfied: typing-extensions in /usr/local/lib/python3.10/dist-packages (from lightning-utilities>=0.8.0->torchmetrics) (4.12.2)\n",
            "Requirement already satisfied: filelock in /usr/local/lib/python3.10/dist-packages (from torch>=2.0.0->torchmetrics) (3.16.1)\n",
            "Requirement already satisfied: networkx in /usr/local/lib/python3.10/dist-packages (from torch>=2.0.0->torchmetrics) (3.4.2)\n",
            "Requirement already satisfied: jinja2 in /usr/local/lib/python3.10/dist-packages (from torch>=2.0.0->torchmetrics) (3.1.4)\n",
            "Requirement already satisfied: fsspec in /usr/local/lib/python3.10/dist-packages (from torch>=2.0.0->torchmetrics) (2024.10.0)\n",
            "Requirement already satisfied: sympy==1.13.1 in /usr/local/lib/python3.10/dist-packages (from torch>=2.0.0->torchmetrics) (1.13.1)\n",
            "Requirement already satisfied: mpmath<1.4,>=1.1.0 in /usr/local/lib/python3.10/dist-packages (from sympy==1.13.1->torch>=2.0.0->torchmetrics) (1.3.0)\n",
            "Requirement already satisfied: MarkupSafe>=2.0 in /usr/local/lib/python3.10/dist-packages (from jinja2->torch>=2.0.0->torchmetrics) (3.0.2)\n"
          ]
        }
      ]
    },
    {
      "cell_type": "code",
      "execution_count": 3,
      "metadata": {
        "id": "EzZgW-AQalSz"
      },
      "outputs": [],
      "source": [
        "import numpy as np, pandas as pd\n",
        "from matplotlib.pyplot import subplots\n",
        "from sklearn.linear_model import \\\n",
        "     (LinearRegression,\n",
        "      LogisticRegression,\n",
        "      Lasso)\n",
        "from sklearn.preprocessing import StandardScaler\n",
        "from sklearn.model_selection import KFold\n",
        "from sklearn.pipeline import Pipeline\n",
        "from ISLP import load_data\n",
        "from ISLP.models import ModelSpec as MS\n",
        "from sklearn.model_selection import \\\n",
        "     (train_test_split,\n",
        "      GridSearchCV)"
      ]
    },
    {
      "cell_type": "code",
      "source": [
        "import torch\n",
        "from torch import nn\n",
        "from torch.optim import RMSprop\n",
        "from torch.utils.data import TensorDataset"
      ],
      "metadata": {
        "id": "I4cWyXpmaqDe"
      },
      "execution_count": 4,
      "outputs": []
    },
    {
      "cell_type": "code",
      "source": [
        "from torchmetrics import (MeanAbsoluteError,\n",
        "                          R2Score)\n",
        "from torchinfo import summary"
      ],
      "metadata": {
        "id": "XB4Jp7KtasPl"
      },
      "execution_count": 5,
      "outputs": []
    },
    {
      "cell_type": "code",
      "source": [
        "from pytorch_lightning import Trainer\n",
        "from pytorch_lightning.loggers import CSVLogger"
      ],
      "metadata": {
        "id": "0HhbE7AWauPY"
      },
      "execution_count": 6,
      "outputs": []
    },
    {
      "cell_type": "code",
      "source": [
        "from pytorch_lightning import seed_everything\n",
        "seed_everything(0, workers=True)\n",
        "torch.use_deterministic_algorithms(True, warn_only=True)"
      ],
      "metadata": {
        "colab": {
          "base_uri": "https://localhost:8080/"
        },
        "id": "mIHLnsqbawVw",
        "outputId": "41739e1b-c632-4c5f-e263-e2659a1f23ed"
      },
      "execution_count": 7,
      "outputs": [
        {
          "output_type": "stream",
          "name": "stderr",
          "text": [
            "INFO:lightning_fabric.utilities.seed:Seed set to 0\n"
          ]
        }
      ]
    },
    {
      "cell_type": "code",
      "source": [
        "from torchvision.io import read_image\n",
        "from torchvision.datasets import MNIST, CIFAR100\n",
        "from torchvision.models import (resnet50,\n",
        "                                ResNet50_Weights)\n",
        "from torchvision.transforms import (Resize,\n",
        "                                    Normalize,\n",
        "                                    CenterCrop,\n",
        "                                    ToTensor)"
      ],
      "metadata": {
        "id": "l63IESsHaya1"
      },
      "execution_count": 8,
      "outputs": []
    },
    {
      "cell_type": "code",
      "source": [
        "from ISLP.torch import (SimpleDataModule,\n",
        "                        SimpleModule,\n",
        "                        ErrorTracker,\n",
        "                        rec_num_workers)"
      ],
      "metadata": {
        "id": "_XOx4An-a0pN"
      },
      "execution_count": 9,
      "outputs": []
    },
    {
      "cell_type": "code",
      "source": [
        "from ISLP.torch.imdb import (load_lookup,\n",
        "                             load_tensor,\n",
        "                             load_sparse,\n",
        "                             load_sequential)"
      ],
      "metadata": {
        "id": "PFyNPaXja3Wu"
      },
      "execution_count": 10,
      "outputs": []
    },
    {
      "cell_type": "code",
      "source": [
        "from glob import glob\n",
        "import json\n",
        "from IPython.display import display, HTML\n",
        "from tabulate import tabulate"
      ],
      "metadata": {
        "id": "ZXxMffz9a4SI"
      },
      "execution_count": 25,
      "outputs": []
    },
    {
      "cell_type": "markdown",
      "source": [
        "From your collection of personal photographs, pick 10 images of an-\n",
        "imals (such as dogs, cats, birds, farm animals, etc.). If the subject\n",
        "does not occupy a reasonable part of the image, then crop the image.\n",
        "Now use a pretrained image classification CNN as in Lab 10.9.4 to\n",
        "predict the class of each of your images, and report the probabilities\n",
        "for the top five predicted classes for each image."
      ],
      "metadata": {
        "id": "YHWMCveGAt5b"
      }
    },
    {
      "cell_type": "code",
      "source": [
        "resize = Resize((232,232), antialias=True)\n",
        "crop = CenterCrop(224)\n",
        "normalize = Normalize([0.485,0.456,0.406],\n",
        "                      [0.229,0.224,0.225])\n",
        "imgfiles = sorted([f for f in glob('book_images/*')])\n",
        "imgs = torch.stack([torch.div(crop(resize(read_image(f))), 255)\n",
        "                    for f in imgfiles])\n",
        "imgs = normalize(imgs)\n",
        "imgs.size()"
      ],
      "metadata": {
        "colab": {
          "base_uri": "https://localhost:8080/"
        },
        "id": "AcmJ3cCllU5t",
        "outputId": "af677788-ff82-4b0a-fd8d-473cb9826b77"
      },
      "execution_count": 15,
      "outputs": [
        {
          "output_type": "execute_result",
          "data": {
            "text/plain": [
              "torch.Size([9, 3, 224, 224])"
            ]
          },
          "metadata": {},
          "execution_count": 15
        }
      ]
    },
    {
      "cell_type": "code",
      "source": [
        "resnet_model = resnet50(weights=ResNet50_Weights.DEFAULT)\n",
        "summary(resnet_model,\n",
        "        input_data=imgs,\n",
        "        col_names=['input_size',\n",
        "                   'output_size',\n",
        "                   'num_params'])"
      ],
      "metadata": {
        "colab": {
          "base_uri": "https://localhost:8080/"
        },
        "id": "OB4b2tIV-ey6",
        "outputId": "77530061-9be0-4dc5-b5f3-2dab2683e96e"
      },
      "execution_count": 16,
      "outputs": [
        {
          "output_type": "stream",
          "name": "stderr",
          "text": [
            "Downloading: \"https://download.pytorch.org/models/resnet50-11ad3fa6.pth\" to /root/.cache/torch/hub/checkpoints/resnet50-11ad3fa6.pth\n",
            "100%|██████████| 97.8M/97.8M [00:00<00:00, 125MB/s]\n"
          ]
        },
        {
          "output_type": "execute_result",
          "data": {
            "text/plain": [
              "===================================================================================================================\n",
              "Layer (type:depth-idx)                   Input Shape               Output Shape              Param #\n",
              "===================================================================================================================\n",
              "ResNet                                   [9, 3, 224, 224]          [9, 1000]                 --\n",
              "├─Conv2d: 1-1                            [9, 3, 224, 224]          [9, 64, 112, 112]         9,408\n",
              "├─BatchNorm2d: 1-2                       [9, 64, 112, 112]         [9, 64, 112, 112]         128\n",
              "├─ReLU: 1-3                              [9, 64, 112, 112]         [9, 64, 112, 112]         --\n",
              "├─MaxPool2d: 1-4                         [9, 64, 112, 112]         [9, 64, 56, 56]           --\n",
              "├─Sequential: 1-5                        [9, 64, 56, 56]           [9, 256, 56, 56]          --\n",
              "│    └─Bottleneck: 2-1                   [9, 64, 56, 56]           [9, 256, 56, 56]          --\n",
              "│    │    └─Conv2d: 3-1                  [9, 64, 56, 56]           [9, 64, 56, 56]           4,096\n",
              "│    │    └─BatchNorm2d: 3-2             [9, 64, 56, 56]           [9, 64, 56, 56]           128\n",
              "│    │    └─ReLU: 3-3                    [9, 64, 56, 56]           [9, 64, 56, 56]           --\n",
              "│    │    └─Conv2d: 3-4                  [9, 64, 56, 56]           [9, 64, 56, 56]           36,864\n",
              "│    │    └─BatchNorm2d: 3-5             [9, 64, 56, 56]           [9, 64, 56, 56]           128\n",
              "│    │    └─ReLU: 3-6                    [9, 64, 56, 56]           [9, 64, 56, 56]           --\n",
              "│    │    └─Conv2d: 3-7                  [9, 64, 56, 56]           [9, 256, 56, 56]          16,384\n",
              "│    │    └─BatchNorm2d: 3-8             [9, 256, 56, 56]          [9, 256, 56, 56]          512\n",
              "│    │    └─Sequential: 3-9              [9, 64, 56, 56]           [9, 256, 56, 56]          16,896\n",
              "│    │    └─ReLU: 3-10                   [9, 256, 56, 56]          [9, 256, 56, 56]          --\n",
              "│    └─Bottleneck: 2-2                   [9, 256, 56, 56]          [9, 256, 56, 56]          --\n",
              "│    │    └─Conv2d: 3-11                 [9, 256, 56, 56]          [9, 64, 56, 56]           16,384\n",
              "│    │    └─BatchNorm2d: 3-12            [9, 64, 56, 56]           [9, 64, 56, 56]           128\n",
              "│    │    └─ReLU: 3-13                   [9, 64, 56, 56]           [9, 64, 56, 56]           --\n",
              "│    │    └─Conv2d: 3-14                 [9, 64, 56, 56]           [9, 64, 56, 56]           36,864\n",
              "│    │    └─BatchNorm2d: 3-15            [9, 64, 56, 56]           [9, 64, 56, 56]           128\n",
              "│    │    └─ReLU: 3-16                   [9, 64, 56, 56]           [9, 64, 56, 56]           --\n",
              "│    │    └─Conv2d: 3-17                 [9, 64, 56, 56]           [9, 256, 56, 56]          16,384\n",
              "│    │    └─BatchNorm2d: 3-18            [9, 256, 56, 56]          [9, 256, 56, 56]          512\n",
              "│    │    └─ReLU: 3-19                   [9, 256, 56, 56]          [9, 256, 56, 56]          --\n",
              "│    └─Bottleneck: 2-3                   [9, 256, 56, 56]          [9, 256, 56, 56]          --\n",
              "│    │    └─Conv2d: 3-20                 [9, 256, 56, 56]          [9, 64, 56, 56]           16,384\n",
              "│    │    └─BatchNorm2d: 3-21            [9, 64, 56, 56]           [9, 64, 56, 56]           128\n",
              "│    │    └─ReLU: 3-22                   [9, 64, 56, 56]           [9, 64, 56, 56]           --\n",
              "│    │    └─Conv2d: 3-23                 [9, 64, 56, 56]           [9, 64, 56, 56]           36,864\n",
              "│    │    └─BatchNorm2d: 3-24            [9, 64, 56, 56]           [9, 64, 56, 56]           128\n",
              "│    │    └─ReLU: 3-25                   [9, 64, 56, 56]           [9, 64, 56, 56]           --\n",
              "│    │    └─Conv2d: 3-26                 [9, 64, 56, 56]           [9, 256, 56, 56]          16,384\n",
              "│    │    └─BatchNorm2d: 3-27            [9, 256, 56, 56]          [9, 256, 56, 56]          512\n",
              "│    │    └─ReLU: 3-28                   [9, 256, 56, 56]          [9, 256, 56, 56]          --\n",
              "├─Sequential: 1-6                        [9, 256, 56, 56]          [9, 512, 28, 28]          --\n",
              "│    └─Bottleneck: 2-4                   [9, 256, 56, 56]          [9, 512, 28, 28]          --\n",
              "│    │    └─Conv2d: 3-29                 [9, 256, 56, 56]          [9, 128, 56, 56]          32,768\n",
              "│    │    └─BatchNorm2d: 3-30            [9, 128, 56, 56]          [9, 128, 56, 56]          256\n",
              "│    │    └─ReLU: 3-31                   [9, 128, 56, 56]          [9, 128, 56, 56]          --\n",
              "│    │    └─Conv2d: 3-32                 [9, 128, 56, 56]          [9, 128, 28, 28]          147,456\n",
              "│    │    └─BatchNorm2d: 3-33            [9, 128, 28, 28]          [9, 128, 28, 28]          256\n",
              "│    │    └─ReLU: 3-34                   [9, 128, 28, 28]          [9, 128, 28, 28]          --\n",
              "│    │    └─Conv2d: 3-35                 [9, 128, 28, 28]          [9, 512, 28, 28]          65,536\n",
              "│    │    └─BatchNorm2d: 3-36            [9, 512, 28, 28]          [9, 512, 28, 28]          1,024\n",
              "│    │    └─Sequential: 3-37             [9, 256, 56, 56]          [9, 512, 28, 28]          132,096\n",
              "│    │    └─ReLU: 3-38                   [9, 512, 28, 28]          [9, 512, 28, 28]          --\n",
              "│    └─Bottleneck: 2-5                   [9, 512, 28, 28]          [9, 512, 28, 28]          --\n",
              "│    │    └─Conv2d: 3-39                 [9, 512, 28, 28]          [9, 128, 28, 28]          65,536\n",
              "│    │    └─BatchNorm2d: 3-40            [9, 128, 28, 28]          [9, 128, 28, 28]          256\n",
              "│    │    └─ReLU: 3-41                   [9, 128, 28, 28]          [9, 128, 28, 28]          --\n",
              "│    │    └─Conv2d: 3-42                 [9, 128, 28, 28]          [9, 128, 28, 28]          147,456\n",
              "│    │    └─BatchNorm2d: 3-43            [9, 128, 28, 28]          [9, 128, 28, 28]          256\n",
              "│    │    └─ReLU: 3-44                   [9, 128, 28, 28]          [9, 128, 28, 28]          --\n",
              "│    │    └─Conv2d: 3-45                 [9, 128, 28, 28]          [9, 512, 28, 28]          65,536\n",
              "│    │    └─BatchNorm2d: 3-46            [9, 512, 28, 28]          [9, 512, 28, 28]          1,024\n",
              "│    │    └─ReLU: 3-47                   [9, 512, 28, 28]          [9, 512, 28, 28]          --\n",
              "│    └─Bottleneck: 2-6                   [9, 512, 28, 28]          [9, 512, 28, 28]          --\n",
              "│    │    └─Conv2d: 3-48                 [9, 512, 28, 28]          [9, 128, 28, 28]          65,536\n",
              "│    │    └─BatchNorm2d: 3-49            [9, 128, 28, 28]          [9, 128, 28, 28]          256\n",
              "│    │    └─ReLU: 3-50                   [9, 128, 28, 28]          [9, 128, 28, 28]          --\n",
              "│    │    └─Conv2d: 3-51                 [9, 128, 28, 28]          [9, 128, 28, 28]          147,456\n",
              "│    │    └─BatchNorm2d: 3-52            [9, 128, 28, 28]          [9, 128, 28, 28]          256\n",
              "│    │    └─ReLU: 3-53                   [9, 128, 28, 28]          [9, 128, 28, 28]          --\n",
              "│    │    └─Conv2d: 3-54                 [9, 128, 28, 28]          [9, 512, 28, 28]          65,536\n",
              "│    │    └─BatchNorm2d: 3-55            [9, 512, 28, 28]          [9, 512, 28, 28]          1,024\n",
              "│    │    └─ReLU: 3-56                   [9, 512, 28, 28]          [9, 512, 28, 28]          --\n",
              "│    └─Bottleneck: 2-7                   [9, 512, 28, 28]          [9, 512, 28, 28]          --\n",
              "│    │    └─Conv2d: 3-57                 [9, 512, 28, 28]          [9, 128, 28, 28]          65,536\n",
              "│    │    └─BatchNorm2d: 3-58            [9, 128, 28, 28]          [9, 128, 28, 28]          256\n",
              "│    │    └─ReLU: 3-59                   [9, 128, 28, 28]          [9, 128, 28, 28]          --\n",
              "│    │    └─Conv2d: 3-60                 [9, 128, 28, 28]          [9, 128, 28, 28]          147,456\n",
              "│    │    └─BatchNorm2d: 3-61            [9, 128, 28, 28]          [9, 128, 28, 28]          256\n",
              "│    │    └─ReLU: 3-62                   [9, 128, 28, 28]          [9, 128, 28, 28]          --\n",
              "│    │    └─Conv2d: 3-63                 [9, 128, 28, 28]          [9, 512, 28, 28]          65,536\n",
              "│    │    └─BatchNorm2d: 3-64            [9, 512, 28, 28]          [9, 512, 28, 28]          1,024\n",
              "│    │    └─ReLU: 3-65                   [9, 512, 28, 28]          [9, 512, 28, 28]          --\n",
              "├─Sequential: 1-7                        [9, 512, 28, 28]          [9, 1024, 14, 14]         --\n",
              "│    └─Bottleneck: 2-8                   [9, 512, 28, 28]          [9, 1024, 14, 14]         --\n",
              "│    │    └─Conv2d: 3-66                 [9, 512, 28, 28]          [9, 256, 28, 28]          131,072\n",
              "│    │    └─BatchNorm2d: 3-67            [9, 256, 28, 28]          [9, 256, 28, 28]          512\n",
              "│    │    └─ReLU: 3-68                   [9, 256, 28, 28]          [9, 256, 28, 28]          --\n",
              "│    │    └─Conv2d: 3-69                 [9, 256, 28, 28]          [9, 256, 14, 14]          589,824\n",
              "│    │    └─BatchNorm2d: 3-70            [9, 256, 14, 14]          [9, 256, 14, 14]          512\n",
              "│    │    └─ReLU: 3-71                   [9, 256, 14, 14]          [9, 256, 14, 14]          --\n",
              "│    │    └─Conv2d: 3-72                 [9, 256, 14, 14]          [9, 1024, 14, 14]         262,144\n",
              "│    │    └─BatchNorm2d: 3-73            [9, 1024, 14, 14]         [9, 1024, 14, 14]         2,048\n",
              "│    │    └─Sequential: 3-74             [9, 512, 28, 28]          [9, 1024, 14, 14]         526,336\n",
              "│    │    └─ReLU: 3-75                   [9, 1024, 14, 14]         [9, 1024, 14, 14]         --\n",
              "│    └─Bottleneck: 2-9                   [9, 1024, 14, 14]         [9, 1024, 14, 14]         --\n",
              "│    │    └─Conv2d: 3-76                 [9, 1024, 14, 14]         [9, 256, 14, 14]          262,144\n",
              "│    │    └─BatchNorm2d: 3-77            [9, 256, 14, 14]          [9, 256, 14, 14]          512\n",
              "│    │    └─ReLU: 3-78                   [9, 256, 14, 14]          [9, 256, 14, 14]          --\n",
              "│    │    └─Conv2d: 3-79                 [9, 256, 14, 14]          [9, 256, 14, 14]          589,824\n",
              "│    │    └─BatchNorm2d: 3-80            [9, 256, 14, 14]          [9, 256, 14, 14]          512\n",
              "│    │    └─ReLU: 3-81                   [9, 256, 14, 14]          [9, 256, 14, 14]          --\n",
              "│    │    └─Conv2d: 3-82                 [9, 256, 14, 14]          [9, 1024, 14, 14]         262,144\n",
              "│    │    └─BatchNorm2d: 3-83            [9, 1024, 14, 14]         [9, 1024, 14, 14]         2,048\n",
              "│    │    └─ReLU: 3-84                   [9, 1024, 14, 14]         [9, 1024, 14, 14]         --\n",
              "│    └─Bottleneck: 2-10                  [9, 1024, 14, 14]         [9, 1024, 14, 14]         --\n",
              "│    │    └─Conv2d: 3-85                 [9, 1024, 14, 14]         [9, 256, 14, 14]          262,144\n",
              "│    │    └─BatchNorm2d: 3-86            [9, 256, 14, 14]          [9, 256, 14, 14]          512\n",
              "│    │    └─ReLU: 3-87                   [9, 256, 14, 14]          [9, 256, 14, 14]          --\n",
              "│    │    └─Conv2d: 3-88                 [9, 256, 14, 14]          [9, 256, 14, 14]          589,824\n",
              "│    │    └─BatchNorm2d: 3-89            [9, 256, 14, 14]          [9, 256, 14, 14]          512\n",
              "│    │    └─ReLU: 3-90                   [9, 256, 14, 14]          [9, 256, 14, 14]          --\n",
              "│    │    └─Conv2d: 3-91                 [9, 256, 14, 14]          [9, 1024, 14, 14]         262,144\n",
              "│    │    └─BatchNorm2d: 3-92            [9, 1024, 14, 14]         [9, 1024, 14, 14]         2,048\n",
              "│    │    └─ReLU: 3-93                   [9, 1024, 14, 14]         [9, 1024, 14, 14]         --\n",
              "│    └─Bottleneck: 2-11                  [9, 1024, 14, 14]         [9, 1024, 14, 14]         --\n",
              "│    │    └─Conv2d: 3-94                 [9, 1024, 14, 14]         [9, 256, 14, 14]          262,144\n",
              "│    │    └─BatchNorm2d: 3-95            [9, 256, 14, 14]          [9, 256, 14, 14]          512\n",
              "│    │    └─ReLU: 3-96                   [9, 256, 14, 14]          [9, 256, 14, 14]          --\n",
              "│    │    └─Conv2d: 3-97                 [9, 256, 14, 14]          [9, 256, 14, 14]          589,824\n",
              "│    │    └─BatchNorm2d: 3-98            [9, 256, 14, 14]          [9, 256, 14, 14]          512\n",
              "│    │    └─ReLU: 3-99                   [9, 256, 14, 14]          [9, 256, 14, 14]          --\n",
              "│    │    └─Conv2d: 3-100                [9, 256, 14, 14]          [9, 1024, 14, 14]         262,144\n",
              "│    │    └─BatchNorm2d: 3-101           [9, 1024, 14, 14]         [9, 1024, 14, 14]         2,048\n",
              "│    │    └─ReLU: 3-102                  [9, 1024, 14, 14]         [9, 1024, 14, 14]         --\n",
              "│    └─Bottleneck: 2-12                  [9, 1024, 14, 14]         [9, 1024, 14, 14]         --\n",
              "│    │    └─Conv2d: 3-103                [9, 1024, 14, 14]         [9, 256, 14, 14]          262,144\n",
              "│    │    └─BatchNorm2d: 3-104           [9, 256, 14, 14]          [9, 256, 14, 14]          512\n",
              "│    │    └─ReLU: 3-105                  [9, 256, 14, 14]          [9, 256, 14, 14]          --\n",
              "│    │    └─Conv2d: 3-106                [9, 256, 14, 14]          [9, 256, 14, 14]          589,824\n",
              "│    │    └─BatchNorm2d: 3-107           [9, 256, 14, 14]          [9, 256, 14, 14]          512\n",
              "│    │    └─ReLU: 3-108                  [9, 256, 14, 14]          [9, 256, 14, 14]          --\n",
              "│    │    └─Conv2d: 3-109                [9, 256, 14, 14]          [9, 1024, 14, 14]         262,144\n",
              "│    │    └─BatchNorm2d: 3-110           [9, 1024, 14, 14]         [9, 1024, 14, 14]         2,048\n",
              "│    │    └─ReLU: 3-111                  [9, 1024, 14, 14]         [9, 1024, 14, 14]         --\n",
              "│    └─Bottleneck: 2-13                  [9, 1024, 14, 14]         [9, 1024, 14, 14]         --\n",
              "│    │    └─Conv2d: 3-112                [9, 1024, 14, 14]         [9, 256, 14, 14]          262,144\n",
              "│    │    └─BatchNorm2d: 3-113           [9, 256, 14, 14]          [9, 256, 14, 14]          512\n",
              "│    │    └─ReLU: 3-114                  [9, 256, 14, 14]          [9, 256, 14, 14]          --\n",
              "│    │    └─Conv2d: 3-115                [9, 256, 14, 14]          [9, 256, 14, 14]          589,824\n",
              "│    │    └─BatchNorm2d: 3-116           [9, 256, 14, 14]          [9, 256, 14, 14]          512\n",
              "│    │    └─ReLU: 3-117                  [9, 256, 14, 14]          [9, 256, 14, 14]          --\n",
              "│    │    └─Conv2d: 3-118                [9, 256, 14, 14]          [9, 1024, 14, 14]         262,144\n",
              "│    │    └─BatchNorm2d: 3-119           [9, 1024, 14, 14]         [9, 1024, 14, 14]         2,048\n",
              "│    │    └─ReLU: 3-120                  [9, 1024, 14, 14]         [9, 1024, 14, 14]         --\n",
              "├─Sequential: 1-8                        [9, 1024, 14, 14]         [9, 2048, 7, 7]           --\n",
              "│    └─Bottleneck: 2-14                  [9, 1024, 14, 14]         [9, 2048, 7, 7]           --\n",
              "│    │    └─Conv2d: 3-121                [9, 1024, 14, 14]         [9, 512, 14, 14]          524,288\n",
              "│    │    └─BatchNorm2d: 3-122           [9, 512, 14, 14]          [9, 512, 14, 14]          1,024\n",
              "│    │    └─ReLU: 3-123                  [9, 512, 14, 14]          [9, 512, 14, 14]          --\n",
              "│    │    └─Conv2d: 3-124                [9, 512, 14, 14]          [9, 512, 7, 7]            2,359,296\n",
              "│    │    └─BatchNorm2d: 3-125           [9, 512, 7, 7]            [9, 512, 7, 7]            1,024\n",
              "│    │    └─ReLU: 3-126                  [9, 512, 7, 7]            [9, 512, 7, 7]            --\n",
              "│    │    └─Conv2d: 3-127                [9, 512, 7, 7]            [9, 2048, 7, 7]           1,048,576\n",
              "│    │    └─BatchNorm2d: 3-128           [9, 2048, 7, 7]           [9, 2048, 7, 7]           4,096\n",
              "│    │    └─Sequential: 3-129            [9, 1024, 14, 14]         [9, 2048, 7, 7]           2,101,248\n",
              "│    │    └─ReLU: 3-130                  [9, 2048, 7, 7]           [9, 2048, 7, 7]           --\n",
              "│    └─Bottleneck: 2-15                  [9, 2048, 7, 7]           [9, 2048, 7, 7]           --\n",
              "│    │    └─Conv2d: 3-131                [9, 2048, 7, 7]           [9, 512, 7, 7]            1,048,576\n",
              "│    │    └─BatchNorm2d: 3-132           [9, 512, 7, 7]            [9, 512, 7, 7]            1,024\n",
              "│    │    └─ReLU: 3-133                  [9, 512, 7, 7]            [9, 512, 7, 7]            --\n",
              "│    │    └─Conv2d: 3-134                [9, 512, 7, 7]            [9, 512, 7, 7]            2,359,296\n",
              "│    │    └─BatchNorm2d: 3-135           [9, 512, 7, 7]            [9, 512, 7, 7]            1,024\n",
              "│    │    └─ReLU: 3-136                  [9, 512, 7, 7]            [9, 512, 7, 7]            --\n",
              "│    │    └─Conv2d: 3-137                [9, 512, 7, 7]            [9, 2048, 7, 7]           1,048,576\n",
              "│    │    └─BatchNorm2d: 3-138           [9, 2048, 7, 7]           [9, 2048, 7, 7]           4,096\n",
              "│    │    └─ReLU: 3-139                  [9, 2048, 7, 7]           [9, 2048, 7, 7]           --\n",
              "│    └─Bottleneck: 2-16                  [9, 2048, 7, 7]           [9, 2048, 7, 7]           --\n",
              "│    │    └─Conv2d: 3-140                [9, 2048, 7, 7]           [9, 512, 7, 7]            1,048,576\n",
              "│    │    └─BatchNorm2d: 3-141           [9, 512, 7, 7]            [9, 512, 7, 7]            1,024\n",
              "│    │    └─ReLU: 3-142                  [9, 512, 7, 7]            [9, 512, 7, 7]            --\n",
              "│    │    └─Conv2d: 3-143                [9, 512, 7, 7]            [9, 512, 7, 7]            2,359,296\n",
              "│    │    └─BatchNorm2d: 3-144           [9, 512, 7, 7]            [9, 512, 7, 7]            1,024\n",
              "│    │    └─ReLU: 3-145                  [9, 512, 7, 7]            [9, 512, 7, 7]            --\n",
              "│    │    └─Conv2d: 3-146                [9, 512, 7, 7]            [9, 2048, 7, 7]           1,048,576\n",
              "│    │    └─BatchNorm2d: 3-147           [9, 2048, 7, 7]           [9, 2048, 7, 7]           4,096\n",
              "│    │    └─ReLU: 3-148                  [9, 2048, 7, 7]           [9, 2048, 7, 7]           --\n",
              "├─AdaptiveAvgPool2d: 1-9                 [9, 2048, 7, 7]           [9, 2048, 1, 1]           --\n",
              "├─Linear: 1-10                           [9, 2048]                 [9, 1000]                 2,049,000\n",
              "===================================================================================================================\n",
              "Total params: 25,557,032\n",
              "Trainable params: 25,557,032\n",
              "Non-trainable params: 0\n",
              "Total mult-adds (G): 36.80\n",
              "===================================================================================================================\n",
              "Input size (MB): 5.42\n",
              "Forward/backward pass size (MB): 1600.49\n",
              "Params size (MB): 102.23\n",
              "Estimated Total Size (MB): 1708.13\n",
              "==================================================================================================================="
            ]
          },
          "metadata": {},
          "execution_count": 16
        }
      ]
    },
    {
      "cell_type": "code",
      "source": [
        "resnet_model.eval()"
      ],
      "metadata": {
        "colab": {
          "base_uri": "https://localhost:8080/"
        },
        "id": "Yk8aCjst-m7H",
        "outputId": "e30d4bf0-bd0e-48c7-e85d-30df802a8633"
      },
      "execution_count": 17,
      "outputs": [
        {
          "output_type": "execute_result",
          "data": {
            "text/plain": [
              "ResNet(\n",
              "  (conv1): Conv2d(3, 64, kernel_size=(7, 7), stride=(2, 2), padding=(3, 3), bias=False)\n",
              "  (bn1): BatchNorm2d(64, eps=1e-05, momentum=0.1, affine=True, track_running_stats=True)\n",
              "  (relu): ReLU(inplace=True)\n",
              "  (maxpool): MaxPool2d(kernel_size=3, stride=2, padding=1, dilation=1, ceil_mode=False)\n",
              "  (layer1): Sequential(\n",
              "    (0): Bottleneck(\n",
              "      (conv1): Conv2d(64, 64, kernel_size=(1, 1), stride=(1, 1), bias=False)\n",
              "      (bn1): BatchNorm2d(64, eps=1e-05, momentum=0.1, affine=True, track_running_stats=True)\n",
              "      (conv2): Conv2d(64, 64, kernel_size=(3, 3), stride=(1, 1), padding=(1, 1), bias=False)\n",
              "      (bn2): BatchNorm2d(64, eps=1e-05, momentum=0.1, affine=True, track_running_stats=True)\n",
              "      (conv3): Conv2d(64, 256, kernel_size=(1, 1), stride=(1, 1), bias=False)\n",
              "      (bn3): BatchNorm2d(256, eps=1e-05, momentum=0.1, affine=True, track_running_stats=True)\n",
              "      (relu): ReLU(inplace=True)\n",
              "      (downsample): Sequential(\n",
              "        (0): Conv2d(64, 256, kernel_size=(1, 1), stride=(1, 1), bias=False)\n",
              "        (1): BatchNorm2d(256, eps=1e-05, momentum=0.1, affine=True, track_running_stats=True)\n",
              "      )\n",
              "    )\n",
              "    (1): Bottleneck(\n",
              "      (conv1): Conv2d(256, 64, kernel_size=(1, 1), stride=(1, 1), bias=False)\n",
              "      (bn1): BatchNorm2d(64, eps=1e-05, momentum=0.1, affine=True, track_running_stats=True)\n",
              "      (conv2): Conv2d(64, 64, kernel_size=(3, 3), stride=(1, 1), padding=(1, 1), bias=False)\n",
              "      (bn2): BatchNorm2d(64, eps=1e-05, momentum=0.1, affine=True, track_running_stats=True)\n",
              "      (conv3): Conv2d(64, 256, kernel_size=(1, 1), stride=(1, 1), bias=False)\n",
              "      (bn3): BatchNorm2d(256, eps=1e-05, momentum=0.1, affine=True, track_running_stats=True)\n",
              "      (relu): ReLU(inplace=True)\n",
              "    )\n",
              "    (2): Bottleneck(\n",
              "      (conv1): Conv2d(256, 64, kernel_size=(1, 1), stride=(1, 1), bias=False)\n",
              "      (bn1): BatchNorm2d(64, eps=1e-05, momentum=0.1, affine=True, track_running_stats=True)\n",
              "      (conv2): Conv2d(64, 64, kernel_size=(3, 3), stride=(1, 1), padding=(1, 1), bias=False)\n",
              "      (bn2): BatchNorm2d(64, eps=1e-05, momentum=0.1, affine=True, track_running_stats=True)\n",
              "      (conv3): Conv2d(64, 256, kernel_size=(1, 1), stride=(1, 1), bias=False)\n",
              "      (bn3): BatchNorm2d(256, eps=1e-05, momentum=0.1, affine=True, track_running_stats=True)\n",
              "      (relu): ReLU(inplace=True)\n",
              "    )\n",
              "  )\n",
              "  (layer2): Sequential(\n",
              "    (0): Bottleneck(\n",
              "      (conv1): Conv2d(256, 128, kernel_size=(1, 1), stride=(1, 1), bias=False)\n",
              "      (bn1): BatchNorm2d(128, eps=1e-05, momentum=0.1, affine=True, track_running_stats=True)\n",
              "      (conv2): Conv2d(128, 128, kernel_size=(3, 3), stride=(2, 2), padding=(1, 1), bias=False)\n",
              "      (bn2): BatchNorm2d(128, eps=1e-05, momentum=0.1, affine=True, track_running_stats=True)\n",
              "      (conv3): Conv2d(128, 512, kernel_size=(1, 1), stride=(1, 1), bias=False)\n",
              "      (bn3): BatchNorm2d(512, eps=1e-05, momentum=0.1, affine=True, track_running_stats=True)\n",
              "      (relu): ReLU(inplace=True)\n",
              "      (downsample): Sequential(\n",
              "        (0): Conv2d(256, 512, kernel_size=(1, 1), stride=(2, 2), bias=False)\n",
              "        (1): BatchNorm2d(512, eps=1e-05, momentum=0.1, affine=True, track_running_stats=True)\n",
              "      )\n",
              "    )\n",
              "    (1): Bottleneck(\n",
              "      (conv1): Conv2d(512, 128, kernel_size=(1, 1), stride=(1, 1), bias=False)\n",
              "      (bn1): BatchNorm2d(128, eps=1e-05, momentum=0.1, affine=True, track_running_stats=True)\n",
              "      (conv2): Conv2d(128, 128, kernel_size=(3, 3), stride=(1, 1), padding=(1, 1), bias=False)\n",
              "      (bn2): BatchNorm2d(128, eps=1e-05, momentum=0.1, affine=True, track_running_stats=True)\n",
              "      (conv3): Conv2d(128, 512, kernel_size=(1, 1), stride=(1, 1), bias=False)\n",
              "      (bn3): BatchNorm2d(512, eps=1e-05, momentum=0.1, affine=True, track_running_stats=True)\n",
              "      (relu): ReLU(inplace=True)\n",
              "    )\n",
              "    (2): Bottleneck(\n",
              "      (conv1): Conv2d(512, 128, kernel_size=(1, 1), stride=(1, 1), bias=False)\n",
              "      (bn1): BatchNorm2d(128, eps=1e-05, momentum=0.1, affine=True, track_running_stats=True)\n",
              "      (conv2): Conv2d(128, 128, kernel_size=(3, 3), stride=(1, 1), padding=(1, 1), bias=False)\n",
              "      (bn2): BatchNorm2d(128, eps=1e-05, momentum=0.1, affine=True, track_running_stats=True)\n",
              "      (conv3): Conv2d(128, 512, kernel_size=(1, 1), stride=(1, 1), bias=False)\n",
              "      (bn3): BatchNorm2d(512, eps=1e-05, momentum=0.1, affine=True, track_running_stats=True)\n",
              "      (relu): ReLU(inplace=True)\n",
              "    )\n",
              "    (3): Bottleneck(\n",
              "      (conv1): Conv2d(512, 128, kernel_size=(1, 1), stride=(1, 1), bias=False)\n",
              "      (bn1): BatchNorm2d(128, eps=1e-05, momentum=0.1, affine=True, track_running_stats=True)\n",
              "      (conv2): Conv2d(128, 128, kernel_size=(3, 3), stride=(1, 1), padding=(1, 1), bias=False)\n",
              "      (bn2): BatchNorm2d(128, eps=1e-05, momentum=0.1, affine=True, track_running_stats=True)\n",
              "      (conv3): Conv2d(128, 512, kernel_size=(1, 1), stride=(1, 1), bias=False)\n",
              "      (bn3): BatchNorm2d(512, eps=1e-05, momentum=0.1, affine=True, track_running_stats=True)\n",
              "      (relu): ReLU(inplace=True)\n",
              "    )\n",
              "  )\n",
              "  (layer3): Sequential(\n",
              "    (0): Bottleneck(\n",
              "      (conv1): Conv2d(512, 256, kernel_size=(1, 1), stride=(1, 1), bias=False)\n",
              "      (bn1): BatchNorm2d(256, eps=1e-05, momentum=0.1, affine=True, track_running_stats=True)\n",
              "      (conv2): Conv2d(256, 256, kernel_size=(3, 3), stride=(2, 2), padding=(1, 1), bias=False)\n",
              "      (bn2): BatchNorm2d(256, eps=1e-05, momentum=0.1, affine=True, track_running_stats=True)\n",
              "      (conv3): Conv2d(256, 1024, kernel_size=(1, 1), stride=(1, 1), bias=False)\n",
              "      (bn3): BatchNorm2d(1024, eps=1e-05, momentum=0.1, affine=True, track_running_stats=True)\n",
              "      (relu): ReLU(inplace=True)\n",
              "      (downsample): Sequential(\n",
              "        (0): Conv2d(512, 1024, kernel_size=(1, 1), stride=(2, 2), bias=False)\n",
              "        (1): BatchNorm2d(1024, eps=1e-05, momentum=0.1, affine=True, track_running_stats=True)\n",
              "      )\n",
              "    )\n",
              "    (1): Bottleneck(\n",
              "      (conv1): Conv2d(1024, 256, kernel_size=(1, 1), stride=(1, 1), bias=False)\n",
              "      (bn1): BatchNorm2d(256, eps=1e-05, momentum=0.1, affine=True, track_running_stats=True)\n",
              "      (conv2): Conv2d(256, 256, kernel_size=(3, 3), stride=(1, 1), padding=(1, 1), bias=False)\n",
              "      (bn2): BatchNorm2d(256, eps=1e-05, momentum=0.1, affine=True, track_running_stats=True)\n",
              "      (conv3): Conv2d(256, 1024, kernel_size=(1, 1), stride=(1, 1), bias=False)\n",
              "      (bn3): BatchNorm2d(1024, eps=1e-05, momentum=0.1, affine=True, track_running_stats=True)\n",
              "      (relu): ReLU(inplace=True)\n",
              "    )\n",
              "    (2): Bottleneck(\n",
              "      (conv1): Conv2d(1024, 256, kernel_size=(1, 1), stride=(1, 1), bias=False)\n",
              "      (bn1): BatchNorm2d(256, eps=1e-05, momentum=0.1, affine=True, track_running_stats=True)\n",
              "      (conv2): Conv2d(256, 256, kernel_size=(3, 3), stride=(1, 1), padding=(1, 1), bias=False)\n",
              "      (bn2): BatchNorm2d(256, eps=1e-05, momentum=0.1, affine=True, track_running_stats=True)\n",
              "      (conv3): Conv2d(256, 1024, kernel_size=(1, 1), stride=(1, 1), bias=False)\n",
              "      (bn3): BatchNorm2d(1024, eps=1e-05, momentum=0.1, affine=True, track_running_stats=True)\n",
              "      (relu): ReLU(inplace=True)\n",
              "    )\n",
              "    (3): Bottleneck(\n",
              "      (conv1): Conv2d(1024, 256, kernel_size=(1, 1), stride=(1, 1), bias=False)\n",
              "      (bn1): BatchNorm2d(256, eps=1e-05, momentum=0.1, affine=True, track_running_stats=True)\n",
              "      (conv2): Conv2d(256, 256, kernel_size=(3, 3), stride=(1, 1), padding=(1, 1), bias=False)\n",
              "      (bn2): BatchNorm2d(256, eps=1e-05, momentum=0.1, affine=True, track_running_stats=True)\n",
              "      (conv3): Conv2d(256, 1024, kernel_size=(1, 1), stride=(1, 1), bias=False)\n",
              "      (bn3): BatchNorm2d(1024, eps=1e-05, momentum=0.1, affine=True, track_running_stats=True)\n",
              "      (relu): ReLU(inplace=True)\n",
              "    )\n",
              "    (4): Bottleneck(\n",
              "      (conv1): Conv2d(1024, 256, kernel_size=(1, 1), stride=(1, 1), bias=False)\n",
              "      (bn1): BatchNorm2d(256, eps=1e-05, momentum=0.1, affine=True, track_running_stats=True)\n",
              "      (conv2): Conv2d(256, 256, kernel_size=(3, 3), stride=(1, 1), padding=(1, 1), bias=False)\n",
              "      (bn2): BatchNorm2d(256, eps=1e-05, momentum=0.1, affine=True, track_running_stats=True)\n",
              "      (conv3): Conv2d(256, 1024, kernel_size=(1, 1), stride=(1, 1), bias=False)\n",
              "      (bn3): BatchNorm2d(1024, eps=1e-05, momentum=0.1, affine=True, track_running_stats=True)\n",
              "      (relu): ReLU(inplace=True)\n",
              "    )\n",
              "    (5): Bottleneck(\n",
              "      (conv1): Conv2d(1024, 256, kernel_size=(1, 1), stride=(1, 1), bias=False)\n",
              "      (bn1): BatchNorm2d(256, eps=1e-05, momentum=0.1, affine=True, track_running_stats=True)\n",
              "      (conv2): Conv2d(256, 256, kernel_size=(3, 3), stride=(1, 1), padding=(1, 1), bias=False)\n",
              "      (bn2): BatchNorm2d(256, eps=1e-05, momentum=0.1, affine=True, track_running_stats=True)\n",
              "      (conv3): Conv2d(256, 1024, kernel_size=(1, 1), stride=(1, 1), bias=False)\n",
              "      (bn3): BatchNorm2d(1024, eps=1e-05, momentum=0.1, affine=True, track_running_stats=True)\n",
              "      (relu): ReLU(inplace=True)\n",
              "    )\n",
              "  )\n",
              "  (layer4): Sequential(\n",
              "    (0): Bottleneck(\n",
              "      (conv1): Conv2d(1024, 512, kernel_size=(1, 1), stride=(1, 1), bias=False)\n",
              "      (bn1): BatchNorm2d(512, eps=1e-05, momentum=0.1, affine=True, track_running_stats=True)\n",
              "      (conv2): Conv2d(512, 512, kernel_size=(3, 3), stride=(2, 2), padding=(1, 1), bias=False)\n",
              "      (bn2): BatchNorm2d(512, eps=1e-05, momentum=0.1, affine=True, track_running_stats=True)\n",
              "      (conv3): Conv2d(512, 2048, kernel_size=(1, 1), stride=(1, 1), bias=False)\n",
              "      (bn3): BatchNorm2d(2048, eps=1e-05, momentum=0.1, affine=True, track_running_stats=True)\n",
              "      (relu): ReLU(inplace=True)\n",
              "      (downsample): Sequential(\n",
              "        (0): Conv2d(1024, 2048, kernel_size=(1, 1), stride=(2, 2), bias=False)\n",
              "        (1): BatchNorm2d(2048, eps=1e-05, momentum=0.1, affine=True, track_running_stats=True)\n",
              "      )\n",
              "    )\n",
              "    (1): Bottleneck(\n",
              "      (conv1): Conv2d(2048, 512, kernel_size=(1, 1), stride=(1, 1), bias=False)\n",
              "      (bn1): BatchNorm2d(512, eps=1e-05, momentum=0.1, affine=True, track_running_stats=True)\n",
              "      (conv2): Conv2d(512, 512, kernel_size=(3, 3), stride=(1, 1), padding=(1, 1), bias=False)\n",
              "      (bn2): BatchNorm2d(512, eps=1e-05, momentum=0.1, affine=True, track_running_stats=True)\n",
              "      (conv3): Conv2d(512, 2048, kernel_size=(1, 1), stride=(1, 1), bias=False)\n",
              "      (bn3): BatchNorm2d(2048, eps=1e-05, momentum=0.1, affine=True, track_running_stats=True)\n",
              "      (relu): ReLU(inplace=True)\n",
              "    )\n",
              "    (2): Bottleneck(\n",
              "      (conv1): Conv2d(2048, 512, kernel_size=(1, 1), stride=(1, 1), bias=False)\n",
              "      (bn1): BatchNorm2d(512, eps=1e-05, momentum=0.1, affine=True, track_running_stats=True)\n",
              "      (conv2): Conv2d(512, 512, kernel_size=(3, 3), stride=(1, 1), padding=(1, 1), bias=False)\n",
              "      (bn2): BatchNorm2d(512, eps=1e-05, momentum=0.1, affine=True, track_running_stats=True)\n",
              "      (conv3): Conv2d(512, 2048, kernel_size=(1, 1), stride=(1, 1), bias=False)\n",
              "      (bn3): BatchNorm2d(2048, eps=1e-05, momentum=0.1, affine=True, track_running_stats=True)\n",
              "      (relu): ReLU(inplace=True)\n",
              "    )\n",
              "  )\n",
              "  (avgpool): AdaptiveAvgPool2d(output_size=(1, 1))\n",
              "  (fc): Linear(in_features=2048, out_features=1000, bias=True)\n",
              ")"
            ]
          },
          "metadata": {},
          "execution_count": 17
        }
      ]
    },
    {
      "cell_type": "code",
      "source": [
        "img_preds = resnet_model(imgs)"
      ],
      "metadata": {
        "id": "uitu2PbD-o1e"
      },
      "execution_count": 18,
      "outputs": []
    },
    {
      "cell_type": "code",
      "source": [
        "img_probs = np.exp(np.asarray(img_preds.detach()))\n",
        "img_probs /= img_probs.sum(1)[:,None]"
      ],
      "metadata": {
        "id": "5zb2CPjP-5Rc"
      },
      "execution_count": 19,
      "outputs": []
    },
    {
      "cell_type": "code",
      "source": [
        "labs = json.load(open('imagenet_class_index.json'))\n",
        "class_labels = pd.DataFrame([(int(k), v[1]) for k, v in\n",
        "                           labs.items()],\n",
        "                           columns=['idx', 'label'])\n",
        "class_labels = class_labels.set_index('idx')\n",
        "class_labels = class_labels.sort_index()"
      ],
      "metadata": {
        "id": "xBWqjwUw_NxQ"
      },
      "execution_count": 20,
      "outputs": []
    },
    {
      "source": [
        "for i, imgfile in enumerate(imgfiles):\n",
        "    img_df = class_labels.copy()\n",
        "    img_df['prob'] = img_probs[i]\n",
        "    img_df = img_df.sort_values(by='prob', ascending=False)[:5]\n",
        "    print(f'Image: {imgfile}')\n",
        "\n",
        "    table = tabulate(img_df.reset_index().drop(columns=['idx']), headers='keys', tablefmt='html')\n",
        "    display(HTML(table))"
      ],
      "cell_type": "code",
      "metadata": {
        "colab": {
          "base_uri": "https://localhost:8080/",
          "height": 1000
        },
        "id": "1CGduHZbAQHD",
        "outputId": "7c191222-0ba4-431d-ab43-1d4911196ad1"
      },
      "execution_count": 26,
      "outputs": [
        {
          "output_type": "stream",
          "name": "stdout",
          "text": [
            "Image: book_images/Cape_Weaver.jpg\n"
          ]
        },
        {
          "output_type": "display_data",
          "data": {
            "text/plain": [
              "<IPython.core.display.HTML object>"
            ],
            "text/html": [
              "<table>\n",
              "<thead>\n",
              "<tr><th style=\"text-align: right;\">  </th><th>label    </th><th style=\"text-align: right;\">     prob</th></tr>\n",
              "</thead>\n",
              "<tbody>\n",
              "<tr><td style=\"text-align: right;\"> 0</td><td>jacamar  </td><td style=\"text-align: right;\">0.297499 </td></tr>\n",
              "<tr><td style=\"text-align: right;\"> 1</td><td>macaw    </td><td style=\"text-align: right;\">0.0681069</td></tr>\n",
              "<tr><td style=\"text-align: right;\"> 2</td><td>lorikeet </td><td style=\"text-align: right;\">0.0511044</td></tr>\n",
              "<tr><td style=\"text-align: right;\"> 3</td><td>bee_eater</td><td style=\"text-align: right;\">0.0444302</td></tr>\n",
              "<tr><td style=\"text-align: right;\"> 4</td><td>bulbul   </td><td style=\"text-align: right;\">0.0291235</td></tr>\n",
              "</tbody>\n",
              "</table>"
            ]
          },
          "metadata": {}
        },
        {
          "output_type": "stream",
          "name": "stdout",
          "text": [
            "Image: book_images/Flamingo.jpg\n"
          ]
        },
        {
          "output_type": "display_data",
          "data": {
            "text/plain": [
              "<IPython.core.display.HTML object>"
            ],
            "text/html": [
              "<table>\n",
              "<thead>\n",
              "<tr><th style=\"text-align: right;\">  </th><th>label         </th><th style=\"text-align: right;\">      prob</th></tr>\n",
              "</thead>\n",
              "<tbody>\n",
              "<tr><td style=\"text-align: right;\"> 0</td><td>flamingo      </td><td style=\"text-align: right;\">0.609514  </td></tr>\n",
              "<tr><td style=\"text-align: right;\"> 1</td><td>spoonbill     </td><td style=\"text-align: right;\">0.013586  </td></tr>\n",
              "<tr><td style=\"text-align: right;\"> 2</td><td>American_egret</td><td style=\"text-align: right;\">0.0021321 </td></tr>\n",
              "<tr><td style=\"text-align: right;\"> 3</td><td>pelican       </td><td style=\"text-align: right;\">0.00136544</td></tr>\n",
              "<tr><td style=\"text-align: right;\"> 4</td><td>crane         </td><td style=\"text-align: right;\">0.00126401</td></tr>\n",
              "</tbody>\n",
              "</table>"
            ]
          },
          "metadata": {}
        },
        {
          "output_type": "stream",
          "name": "stdout",
          "text": [
            "Image: book_images/Hawk_Fountain.jpg\n"
          ]
        },
        {
          "output_type": "display_data",
          "data": {
            "text/plain": [
              "<IPython.core.display.HTML object>"
            ],
            "text/html": [
              "<table>\n",
              "<thead>\n",
              "<tr><th style=\"text-align: right;\">  </th><th>label         </th><th style=\"text-align: right;\">     prob</th></tr>\n",
              "</thead>\n",
              "<tbody>\n",
              "<tr><td style=\"text-align: right;\"> 0</td><td>kite          </td><td style=\"text-align: right;\">0.184681 </td></tr>\n",
              "<tr><td style=\"text-align: right;\"> 1</td><td>robin         </td><td style=\"text-align: right;\">0.0840216</td></tr>\n",
              "<tr><td style=\"text-align: right;\"> 2</td><td>great_grey_owl</td><td style=\"text-align: right;\">0.0612737</td></tr>\n",
              "<tr><td style=\"text-align: right;\"> 3</td><td>indigo_bunting</td><td style=\"text-align: right;\">0.0213474</td></tr>\n",
              "<tr><td style=\"text-align: right;\"> 4</td><td>fountain      </td><td style=\"text-align: right;\">0.0109924</td></tr>\n",
              "</tbody>\n",
              "</table>"
            ]
          },
          "metadata": {}
        },
        {
          "output_type": "stream",
          "name": "stdout",
          "text": [
            "Image: book_images/Hawk_cropped.jpg\n"
          ]
        },
        {
          "output_type": "display_data",
          "data": {
            "text/plain": [
              "<IPython.core.display.HTML object>"
            ],
            "text/html": [
              "<table>\n",
              "<thead>\n",
              "<tr><th style=\"text-align: right;\">  </th><th>label         </th><th style=\"text-align: right;\">      prob</th></tr>\n",
              "</thead>\n",
              "<tbody>\n",
              "<tr><td style=\"text-align: right;\"> 0</td><td>kite          </td><td style=\"text-align: right;\">0.453834  </td></tr>\n",
              "<tr><td style=\"text-align: right;\"> 1</td><td>great_grey_owl</td><td style=\"text-align: right;\">0.0159144 </td></tr>\n",
              "<tr><td style=\"text-align: right;\"> 2</td><td>jay           </td><td style=\"text-align: right;\">0.0122101 </td></tr>\n",
              "<tr><td style=\"text-align: right;\"> 3</td><td>quail         </td><td style=\"text-align: right;\">0.00830348</td></tr>\n",
              "<tr><td style=\"text-align: right;\"> 4</td><td>macaw         </td><td style=\"text-align: right;\">0.00518058</td></tr>\n",
              "</tbody>\n",
              "</table>"
            ]
          },
          "metadata": {}
        },
        {
          "output_type": "stream",
          "name": "stdout",
          "text": [
            "Image: book_images/bird.jpg\n"
          ]
        },
        {
          "output_type": "display_data",
          "data": {
            "text/plain": [
              "<IPython.core.display.HTML object>"
            ],
            "text/html": [
              "<table>\n",
              "<thead>\n",
              "<tr><th style=\"text-align: right;\">  </th><th>label                   </th><th style=\"text-align: right;\">      prob</th></tr>\n",
              "</thead>\n",
              "<tbody>\n",
              "<tr><td style=\"text-align: right;\"> 0</td><td>macaw                   </td><td style=\"text-align: right;\">0.247965  </td></tr>\n",
              "<tr><td style=\"text-align: right;\"> 1</td><td>lorikeet                </td><td style=\"text-align: right;\">0.190809  </td></tr>\n",
              "<tr><td style=\"text-align: right;\"> 2</td><td>African_grey            </td><td style=\"text-align: right;\">0.0159318 </td></tr>\n",
              "<tr><td style=\"text-align: right;\"> 3</td><td>bee_eater               </td><td style=\"text-align: right;\">0.00379589</td></tr>\n",
              "<tr><td style=\"text-align: right;\"> 4</td><td>sulphur-crested_cockatoo</td><td style=\"text-align: right;\">0.0032404 </td></tr>\n",
              "</tbody>\n",
              "</table>"
            ]
          },
          "metadata": {}
        },
        {
          "output_type": "stream",
          "name": "stdout",
          "text": [
            "Image: book_images/cat_yes_closed.jpg\n"
          ]
        },
        {
          "output_type": "display_data",
          "data": {
            "text/plain": [
              "<IPython.core.display.HTML object>"
            ],
            "text/html": [
              "<table>\n",
              "<thead>\n",
              "<tr><th style=\"text-align: right;\">  </th><th>label       </th><th style=\"text-align: right;\">      prob</th></tr>\n",
              "</thead>\n",
              "<tbody>\n",
              "<tr><td style=\"text-align: right;\"> 0</td><td>tabby       </td><td style=\"text-align: right;\">0.412241  </td></tr>\n",
              "<tr><td style=\"text-align: right;\"> 1</td><td>tiger_cat   </td><td style=\"text-align: right;\">0.0892404 </td></tr>\n",
              "<tr><td style=\"text-align: right;\"> 2</td><td>Egyptian_cat</td><td style=\"text-align: right;\">0.0767372 </td></tr>\n",
              "<tr><td style=\"text-align: right;\"> 3</td><td>lynx        </td><td style=\"text-align: right;\">0.00626676</td></tr>\n",
              "<tr><td style=\"text-align: right;\"> 4</td><td>plastic_bag </td><td style=\"text-align: right;\">0.00185857</td></tr>\n",
              "</tbody>\n",
              "</table>"
            ]
          },
          "metadata": {}
        },
        {
          "output_type": "stream",
          "name": "stdout",
          "text": [
            "Image: book_images/cow.jpg\n"
          ]
        },
        {
          "output_type": "display_data",
          "data": {
            "text/plain": [
              "<IPython.core.display.HTML object>"
            ],
            "text/html": [
              "<table>\n",
              "<thead>\n",
              "<tr><th style=\"text-align: right;\">  </th><th>label        </th><th style=\"text-align: right;\">      prob</th></tr>\n",
              "</thead>\n",
              "<tbody>\n",
              "<tr><td style=\"text-align: right;\"> 0</td><td>ox           </td><td style=\"text-align: right;\">0.630883  </td></tr>\n",
              "<tr><td style=\"text-align: right;\"> 1</td><td>oxcart       </td><td style=\"text-align: right;\">0.022181  </td></tr>\n",
              "<tr><td style=\"text-align: right;\"> 2</td><td>water_buffalo</td><td style=\"text-align: right;\">0.00725485</td></tr>\n",
              "<tr><td style=\"text-align: right;\"> 3</td><td>ram          </td><td style=\"text-align: right;\">0.00473257</td></tr>\n",
              "<tr><td style=\"text-align: right;\"> 4</td><td>sorrel       </td><td style=\"text-align: right;\">0.00427067</td></tr>\n",
              "</tbody>\n",
              "</table>"
            ]
          },
          "metadata": {}
        },
        {
          "output_type": "stream",
          "name": "stdout",
          "text": [
            "Image: book_images/german_shepherd.jpeg\n"
          ]
        },
        {
          "output_type": "display_data",
          "data": {
            "text/plain": [
              "<IPython.core.display.HTML object>"
            ],
            "text/html": [
              "<table>\n",
              "<thead>\n",
              "<tr><th style=\"text-align: right;\">  </th><th>label          </th><th style=\"text-align: right;\">      prob</th></tr>\n",
              "</thead>\n",
              "<tbody>\n",
              "<tr><td style=\"text-align: right;\"> 0</td><td>German_shepherd</td><td style=\"text-align: right;\">0.358803  </td></tr>\n",
              "<tr><td style=\"text-align: right;\"> 1</td><td>Leonberg       </td><td style=\"text-align: right;\">0.00688311</td></tr>\n",
              "<tr><td style=\"text-align: right;\"> 2</td><td>patas          </td><td style=\"text-align: right;\">0.00413909</td></tr>\n",
              "<tr><td style=\"text-align: right;\"> 3</td><td>briard         </td><td style=\"text-align: right;\">0.00383933</td></tr>\n",
              "<tr><td style=\"text-align: right;\"> 4</td><td>malinois       </td><td style=\"text-align: right;\">0.00377497</td></tr>\n",
              "</tbody>\n",
              "</table>"
            ]
          },
          "metadata": {}
        },
        {
          "output_type": "stream",
          "name": "stdout",
          "text": [
            "Image: book_images/king_cobra.jpg\n"
          ]
        },
        {
          "output_type": "display_data",
          "data": {
            "text/plain": [
              "<IPython.core.display.HTML object>"
            ],
            "text/html": [
              "<table>\n",
              "<thead>\n",
              "<tr><th style=\"text-align: right;\">  </th><th>label        </th><th style=\"text-align: right;\">      prob</th></tr>\n",
              "</thead>\n",
              "<tbody>\n",
              "<tr><td style=\"text-align: right;\"> 0</td><td>Indian_cobra </td><td style=\"text-align: right;\">0.479893  </td></tr>\n",
              "<tr><td style=\"text-align: right;\"> 1</td><td>king_snake   </td><td style=\"text-align: right;\">0.00448407</td></tr>\n",
              "<tr><td style=\"text-align: right;\"> 2</td><td>hognose_snake</td><td style=\"text-align: right;\">0.00423576</td></tr>\n",
              "<tr><td style=\"text-align: right;\"> 3</td><td>night_snake  </td><td style=\"text-align: right;\">0.00403787</td></tr>\n",
              "<tr><td style=\"text-align: right;\"> 4</td><td>horned_viper </td><td style=\"text-align: right;\">0.00294265</td></tr>\n",
              "</tbody>\n",
              "</table>"
            ]
          },
          "metadata": {}
        }
      ]
    }
  ]
}